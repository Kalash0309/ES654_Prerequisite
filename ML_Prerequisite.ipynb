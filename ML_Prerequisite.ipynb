{
  "nbformat": 4,
  "nbformat_minor": 0,
  "metadata": {
    "colab": {
      "provenance": []
    },
    "kernelspec": {
      "name": "python3",
      "display_name": "Python 3"
    },
    "language_info": {
      "name": "python"
    }
  },
  "cells": [
    {
      "cell_type": "markdown",
      "source": [
        "Ans 1."
      ],
      "metadata": {
        "id": "OM7-FHOxGKkl"
      }
    },
    {
      "cell_type": "markdown",
      "source": [
        "Multiplications = (k * m) * n\n",
        "\n",
        "Additions = (k-1) * m * n\n",
        "\n",
        "The resultant matrix after multiplication of a (n,k) and (k,m) matrix is a (n,m) matrix.\n",
        "\n",
        "Each row of first matrix is multiplied element wise with each column of the second matrix and then added to give the element of that respective column in the resultant matrix.\n",
        "The additions are one less for each elemeent of resultant matrix."
      ],
      "metadata": {
        "id": "jzxJrzDEA1iU"
      }
    },
    {
      "cell_type": "markdown",
      "source": [
        "Ans 2."
      ],
      "metadata": {
        "id": "_UbqDmvLGGVE"
      }
    },
    {
      "cell_type": "code",
      "source": [
        "import timeit\n",
        "import numpy as np\n",
        "n = 2\n",
        "m = 3\n",
        "k = 4\n",
        "A = np.random.randint(1, 10, size=(n,k))\n",
        "B = np.random.randint(1, 10, size=(k,m))\n",
        "\n",
        "def print_matrix(C):\n",
        "    # print(C[n-1][m-1])\n",
        "    for x in range(n):\n",
        "        for y in range(m):\n",
        "            print(C[x][y], end=' ')\n",
        "            if(y == m-1):\n",
        "                print('\\n')"
      ],
      "metadata": {
        "id": "xnNnAlRRCZaM"
      },
      "execution_count": 67,
      "outputs": []
    },
    {
      "cell_type": "code",
      "source": [
        "# Multiplying matrix A and B and storing in matrix C using nested for loops.\n",
        "\n",
        "def multiplication_for_loops(A,B,n,m,k):\n",
        "  C1 = [[0]*m for _ in range(n)]\n",
        "  for x in range(n):\n",
        "      for y in range(m):\n",
        "          for z in range(k):\n",
        "              C1[x][y] += (A[x][z] * B[z][y])\n",
        "  return C1\n",
        "\n",
        "# print_matrix(multiplication_for_loops(A,B,n,m,k))\n",
        "\n",
        "# Multiplying matrix A and B and storing in matrix C using numpy.\n",
        "\n",
        "def multiplication_numpy(A,B,n,m,k):\n",
        "  C2 = np.dot(A,B)\n",
        "  return C2\n",
        "\n",
        "# print_matrix(multiplication_numpy(A,B,n,m,k))"
      ],
      "metadata": {
        "id": "LqgV7faZzAQl"
      },
      "execution_count": 68,
      "outputs": []
    },
    {
      "cell_type": "code",
      "source": [
        "%%timeit -r 3 -n 2000\n",
        "multiplication_for_loops(A,B,n,m,k)"
      ],
      "metadata": {
        "colab": {
          "base_uri": "https://localhost:8080/"
        },
        "id": "ZEkP8pOnBwvh",
        "outputId": "78a2b610-73fa-4e08-f4e5-700ef00d4b6e"
      },
      "execution_count": 69,
      "outputs": [
        {
          "output_type": "stream",
          "name": "stdout",
          "text": [
            "22 µs ± 2.65 µs per loop (mean ± std. dev. of 3 runs, 2000 loops each)\n"
          ]
        }
      ]
    },
    {
      "cell_type": "code",
      "source": [
        "%%timeit -r 3 -n 2000\n",
        "multiplication_numpy(A,B,n,m,k)"
      ],
      "metadata": {
        "colab": {
          "base_uri": "https://localhost:8080/"
        },
        "id": "5Mhe8re12-9Y",
        "outputId": "739c0dc9-a17b-47ff-ce70-0f60b26121cc"
      },
      "execution_count": 70,
      "outputs": [
        {
          "output_type": "stream",
          "name": "stdout",
          "text": [
            "2.22 µs ± 1.07 µs per loop (mean ± std. dev. of 3 runs, 2000 loops each)\n"
          ]
        }
      ]
    },
    {
      "cell_type": "markdown",
      "source": [
        "The matrix multiplication using numpy is faster and this difference grows exponentially for a larger dataset(i.e. matrix shapes).\n",
        "\n",
        "numpy uses vectorized dot product to multiply the matrices which decreases the time complexity by many folds."
      ],
      "metadata": {
        "id": "NYlTzE41Exb_"
      }
    },
    {
      "cell_type": "markdown",
      "source": [
        "Ans 3."
      ],
      "metadata": {
        "id": "4pq7FeTyGNqv"
      }
    },
    {
      "cell_type": "markdown",
      "source": [
        "Median of a list is the middle most element of the sorted list.\n",
        "Let the number of elements be n.\n",
        "\n",
        "Case 1: n is Odd\n",
        "\n",
        "Median = $(\\frac{n+1}{2})^{th}$ element\n",
        "\n",
        "Case 2: n is Even\n",
        "\n",
        "Median = Average of $(\\frac{n}{2})^{th}$ and $(\\frac{n}{2} + 1)^{th}$ element\n",
        "\n",
        "To find the median highest element in the list it would require $(\\frac{n+1}{2})$ or $(\\frac{n}{2} + 1)$ passes of the array according to the number of elements.\n",
        "Therefore, the time complexity of this method is O($n^{2}$).\n",
        "\n",
        "\n",
        "Instead of the above method, we can use sorting to first sort the list. This can be done using the inbuilt sort() function in Python in O(nlogn) time and the we can just output the median element according to n (even or odd, as explained in cases above) which takes O(1) time. \n",
        "\n",
        "Therefore, the time complexity of this method will be O(nlogn) + O(1) = O(nlogn)."
      ],
      "metadata": {
        "id": "o8OCQdNyGcXQ"
      }
    },
    {
      "cell_type": "code",
      "source": [
        "import random\n",
        "import timeit\n",
        "import numpy as np\n",
        "\n",
        "n = 100\n",
        "lst = random.sample(range(1, 200), n)"
      ],
      "metadata": {
        "id": "co_6ovvTVQmx"
      },
      "execution_count": 71,
      "outputs": []
    },
    {
      "cell_type": "code",
      "source": [
        "import sys\n",
        "\n",
        "# Method 1: Array Pass Method\n",
        "\n",
        "def median_array_pass(lst, n):\n",
        "  idx = 0\n",
        "  used_idx = []\n",
        "\n",
        "  if(n%2):\n",
        "    for j in range(int((n+1)/2)):\n",
        "      max_num = -sys.maxsize - 1\n",
        "      for i in range(n):\n",
        "        if(lst[i]>=max_num and i not in used_idx):\n",
        "          max_num = lst[i]\n",
        "          idx = i\n",
        "      used_idx.append(idx)\n",
        "    median = max_num\n",
        "  else:\n",
        "    for j in range(int(n/2)+1):\n",
        "      if(j == int(n/2)):\n",
        "        last_max = max_num\n",
        "      max_num = -sys.maxsize - 1\n",
        "      for i in range(n):\n",
        "        if(lst[i]>=max_num and i not in used_idx):\n",
        "          max_num = lst[i]\n",
        "          idx = i\n",
        "      used_idx.append(idx)\n",
        "    median = (max_num + last_max)/2\n",
        "    return median\n",
        "\n",
        "print(\"The Median using Method 1 is: \", median_array_pass(lst, n))\n",
        "\n",
        "# Method 2: Sorting Method\n",
        "\n",
        "def median_sorting(lst,n):\n",
        "  lst.sort()\n",
        "  if(n%2):\n",
        "    median = lst[int((n+1)/2)-1]\n",
        "  else:\n",
        "    median = (lst[int(n/2)] + lst[int(n/2)-1])/2\n",
        "\n",
        "  return median\n",
        "\n",
        "print(\"The Median using Method 2 is: \",median_sorting(lst,n))\n",
        "\n",
        "# Method 3: Numpy median Method\n",
        "\n",
        "def median_numpy(lst):\n",
        "  median = np.median(lst)\n",
        "  return median\n",
        "\n",
        "print(\"The Median using Method 3 is: \",median_numpy(lst))"
      ],
      "metadata": {
        "colab": {
          "base_uri": "https://localhost:8080/"
        },
        "id": "cPeNJfWFLXEG",
        "outputId": "7191b598-5e92-4189-f345-0a9dbb69bac6"
      },
      "execution_count": 72,
      "outputs": [
        {
          "output_type": "stream",
          "name": "stdout",
          "text": [
            "The Median using Method 1 is:  97.5\n",
            "The Median using Method 2 is:  97.5\n",
            "The Median using Method 3 is:  97.5\n"
          ]
        }
      ]
    },
    {
      "cell_type": "code",
      "source": [
        "%%timeit -r 3 -n 2000\n",
        "median_array_pass(lst,n)"
      ],
      "metadata": {
        "colab": {
          "base_uri": "https://localhost:8080/"
        },
        "id": "ZJUf_sIToAd-",
        "outputId": "45f3d50f-d41c-4d5c-ff55-bdf31dc57f2d"
      },
      "execution_count": 73,
      "outputs": [
        {
          "output_type": "stream",
          "name": "stdout",
          "text": [
            "2.31 ms ± 199 µs per loop (mean ± std. dev. of 3 runs, 2000 loops each)\n"
          ]
        }
      ]
    },
    {
      "cell_type": "code",
      "source": [
        "%%timeit -r 3 -n 2000\n",
        "median_sorting(lst,n)"
      ],
      "metadata": {
        "colab": {
          "base_uri": "https://localhost:8080/"
        },
        "id": "R29UPwY5VLXP",
        "outputId": "e07e089f-9ccc-4005-8f4c-9380570b93dc"
      },
      "execution_count": 74,
      "outputs": [
        {
          "output_type": "stream",
          "name": "stdout",
          "text": [
            "1.95 µs ± 939 ns per loop (mean ± std. dev. of 3 runs, 2000 loops each)\n"
          ]
        }
      ]
    },
    {
      "cell_type": "code",
      "source": [
        "%%timeit -r 3 -n 2000\n",
        "median_numpy(lst)"
      ],
      "metadata": {
        "colab": {
          "base_uri": "https://localhost:8080/"
        },
        "id": "omckISOEWAjg",
        "outputId": "6587d564-9d5a-48d2-f387-08e830926721"
      },
      "execution_count": 75,
      "outputs": [
        {
          "output_type": "stream",
          "name": "stdout",
          "text": [
            "32.5 µs ± 2.31 µs per loop (mean ± std. dev. of 3 runs, 2000 loops each)\n"
          ]
        }
      ]
    },
    {
      "cell_type": "markdown",
      "source": [
        "On comparison of runtime, it is observed that the best runtime is that of sorting the array first and then finding the median eleemnt acoording to the rule, followed by the np.median method , followed by the Array Pass Method."
      ],
      "metadata": {
        "id": "iJxz8-Ta7vJM"
      }
    },
    {
      "cell_type": "markdown",
      "source": [
        "Ans 4.\n",
        "\n",
        "Let f(x) = $x^{2}$y + $y^{3}$sin(x)\n",
        "\n",
        "$\\frac{df(x)}{dx}$ = 2xy + $y^{3}$cos(x)\n",
        "\n",
        "$\\frac{df(x)}{dy}$ = $x^{2}$ + $3y^{2}$sin(x)"
      ],
      "metadata": {
        "id": "5gc4ErcfYe3l"
      }
    },
    {
      "cell_type": "markdown",
      "source": [
        "Ans 5."
      ],
      "metadata": {
        "id": "jFSNmoRZkAWX"
      }
    },
    {
      "cell_type": "code",
      "source": [
        "import random\n",
        "import numpy as np\n",
        "import jax.numpy as jnp\n",
        "from jax import grad\n",
        "\n",
        "# Function f\n",
        "def f(x, y):\n",
        "  return x**2 * y + y**3 * jnp.sin(x)\n",
        "\n",
        "# df/dx\n",
        "def df_dx(x, y):\n",
        "  return 2*x*y + y**3 * jnp.cos(x)\n",
        "\n",
        "# df/dy\n",
        "def df_dy(x, y):\n",
        "  return x**2 + 3 * y**2 * jnp.sin(x)\n",
        "\n",
        "grad_x = grad(f, argnums=0)\n",
        "grad_y = grad(f, argnums=1)\n",
        "\n",
        "x = np.random.uniform(1,10,(5))\n",
        "y = np.random.uniform(1,10,(5))\n",
        "err = 1e-3\n",
        "\n",
        "for i in range(5):\n",
        "  print(grad_x(x[i],y[i]),\", \",df_dx(x[i],y[i]))\n",
        "  print(grad_y(x[i],y[i]),\", \",df_dy(x[i],y[i]))\n",
        "  if(abs(grad_x(x[i],y[i]) - df_dx(x[i],y[i]))>err or \n",
        "     abs(grad_y(x[i],y[i]) - df_dy(x[i],y[i]))>err):\n",
        "    print(\"Gradients do not match!\")\n",
        "  else:\n",
        "    print(\"Gradient Match!\")\n",
        "\n"
      ],
      "metadata": {
        "colab": {
          "base_uri": "https://localhost:8080/"
        },
        "id": "4slYsP_crMcC",
        "outputId": "49d25d9f-9a20-4157-9846-c36ba542763a"
      },
      "execution_count": 76,
      "outputs": [
        {
          "output_type": "stream",
          "name": "stdout",
          "text": [
            "-327.49777 ,  -327.4978\n",
            "284.64478 ,  284.64478\n",
            "Gradient Match!\n",
            "2.608963 ,  2.608964\n",
            "12.87768 ,  12.87768\n",
            "Gradient Match!\n",
            "500.29688 ,  500.29688\n",
            "297.3652 ,  297.36517\n",
            "Gradient Match!\n",
            "-87.83429 ,  -87.83428\n",
            "-67.23526 ,  -67.23526\n",
            "Gradient Match!\n",
            "-520.598 ,  -520.598\n",
            "-108.29447 ,  -108.29449\n",
            "Gradient Match!\n"
          ]
        }
      ]
    },
    {
      "cell_type": "markdown",
      "source": [
        "Therefore, the gradient evaluated in Q4 matches the analytical solution corresponding to a few random values of x and y"
      ],
      "metadata": {
        "id": "Ym-LUOmcwSdG"
      }
    },
    {
      "cell_type": "markdown",
      "source": [
        "Ans 6."
      ],
      "metadata": {
        "id": "uA16AkcbkLSY"
      }
    },
    {
      "cell_type": "code",
      "source": [
        "import sympy\n",
        "\n",
        "x, y = sympy.symbols('x y')\n",
        "f = x**2*y + y**3*sympy.sin(x)\n",
        "gradient = sympy.Matrix([f]).jacobian([x, y])\n",
        "\n",
        "print(gradient)"
      ],
      "metadata": {
        "colab": {
          "base_uri": "https://localhost:8080/"
        },
        "id": "_2kQjuBbkNle",
        "outputId": "a7503146-5478-4b70-ebae-96620415b53e"
      },
      "execution_count": 77,
      "outputs": [
        {
          "output_type": "stream",
          "name": "stdout",
          "text": [
            "Matrix([[2*x*y + y**3*cos(x), x**2 + 3*y**2*sin(x)]])\n"
          ]
        }
      ]
    },
    {
      "cell_type": "markdown",
      "source": [
        "Ans 7."
      ],
      "metadata": {
        "id": "wUEjA04zM97a"
      }
    },
    {
      "cell_type": "code",
      "source": [
        "students = {\n",
        "    2022:{\n",
        "        'Branch 1':[\n",
        "            {\n",
        "              'Roll Number': 1, \n",
        "              'Name': 'N', \n",
        "              'Marks': {\n",
        "                  'Maths':100, \n",
        "                  'English':70\n",
        "                  }\n",
        "            }\n",
        "        ], \n",
        "        'Branch 2':[]\n",
        "    },\n",
        "    2023:{\n",
        "        'Branch 1':[],\n",
        "        'Branch 2':[]\n",
        "    },\n",
        "    2024:{\n",
        "        'Branch 1':[],\n",
        "        'Branch 2':[]\n",
        "    },\n",
        "    2025:{\n",
        "        'Branch 1':[],\n",
        "        'Branch 2':[]\n",
        "    },\n",
        "}"
      ],
      "metadata": {
        "id": "wH6g7OHhM_Tv"
      },
      "execution_count": 78,
      "outputs": []
    },
    {
      "cell_type": "markdown",
      "source": [
        "Ans 8."
      ],
      "metadata": {
        "id": "J3-ogpYVvITX"
      }
    },
    {
      "cell_type": "code",
      "source": [
        "class Student():\n",
        "  def __init__(self, roll_no, name, marks):\n",
        "    self.roll_no = roll_no\n",
        "    self.name = name\n",
        "    self.marks = marks\n",
        "\n",
        "class Branch(Student):\n",
        "  def __init__(self, branches, students):\n",
        "    self.branches = branches\n",
        "    self.students = students\n",
        "\n",
        "class Year(Branch):\n",
        "  def __init__(self, year, branches):\n",
        "    self.year = year\n",
        "    self.branches = branches\n",
        "\n",
        "class Database(Year):\n",
        "  def __init__(self, years):\n",
        "    self.years = years\n",
        "\n",
        "database = Database([\n",
        "    Year(2022, [\n",
        "        Branch(\"Branch 1\", [\n",
        "            Student(1, \"N\", {\"Maths\":100, \"English\":70})\n",
        "        ]),\n",
        "        Branch(\"Branch 2\",[])\n",
        "    ]),\n",
        "    Year(2023, [\n",
        "        Branch(\"Branch 1\",[]),\n",
        "        Branch(\"Branch 2\",[])\n",
        "    ]),\n",
        "    Year(2024, [\n",
        "        Branch(\"Branch 1\",[]),\n",
        "        Branch(\"Branch 2\",[])\n",
        "    ]),\n",
        "    Year(2025, [\n",
        "        Branch(\"Branch 1\",[]),\n",
        "        Branch(\"Branch 2\",[])\n",
        "    ])\n",
        "])\n",
        "\n",
        "for year in database.years:\n",
        "    print(\"Year:\", year.year)\n",
        "    for branch in year.branches:\n",
        "        print(\"  Branch:\", branch.branches)\n",
        "        for student in branch.students:\n",
        "            print(\"    Roll Number: \",student.roll_no, \", Name: \",student.name, \", Marks: \")\n",
        "            print(\"     \",end='')\n",
        "            for subject,marks in student.marks.items():\n",
        "              print(subject,\": \",marks,\", \",end='')\n",
        "            print('\\n')\n",
        "\n"
      ],
      "metadata": {
        "colab": {
          "base_uri": "https://localhost:8080/"
        },
        "id": "XBXF7IZZSwHM",
        "outputId": "4556a8e4-bc87-4639-cab1-e6cba26f6a20"
      },
      "execution_count": 79,
      "outputs": [
        {
          "output_type": "stream",
          "name": "stdout",
          "text": [
            "Year: 2022\n",
            "  Branch: Branch 1\n",
            "    Roll Number:  1 , Name:  N , Marks: \n",
            "     Maths :  100 , English :  70 , \n",
            "\n",
            "  Branch: Branch 2\n",
            "Year: 2023\n",
            "  Branch: Branch 1\n",
            "  Branch: Branch 2\n",
            "Year: 2024\n",
            "  Branch: Branch 1\n",
            "  Branch: Branch 2\n",
            "Year: 2025\n",
            "  Branch: Branch 1\n",
            "  Branch: Branch 2\n"
          ]
        }
      ]
    },
    {
      "cell_type": "markdown",
      "source": [
        "Ans 9."
      ],
      "metadata": {
        "id": "ivhbcaDVKG2h"
      }
    },
    {
      "cell_type": "code",
      "source": [
        "import numpy as np\n",
        "import matplotlib.pyplot as plt\n",
        "x = np.linspace(0.5,100.0,200) # 200 denotes number of steps instead of step size"
      ],
      "metadata": {
        "id": "3huU8f0NKIsT"
      },
      "execution_count": 80,
      "outputs": []
    },
    {
      "cell_type": "code",
      "source": [
        "y = x\n",
        "\n",
        "fig = plt.figure()\n",
        "ax = fig.add_subplot(1, 1, 1)\n",
        "\n",
        "# plot the function\n",
        "plt.plot(x,y, 'r')\n",
        "plt.xlabel(\"x\")\n",
        "plt.ylabel(\"y\")\n",
        "\n",
        "plt.show()"
      ],
      "metadata": {
        "colab": {
          "base_uri": "https://localhost:8080/",
          "height": 279
        },
        "id": "Vxtk1gPBYgAJ",
        "outputId": "668bd739-2ac6-4ef1-fe51-d097c4c7178f"
      },
      "execution_count": 81,
      "outputs": [
        {
          "output_type": "display_data",
          "data": {
            "text/plain": [
              "<Figure size 432x288 with 1 Axes>"
            ],
            "image/png": "[encoded data removed]"
          },
          "metadata": {
            "needs_background": "light"
          }
        }
      ]
    },
    {
      "cell_type": "code",
      "source": [
        "y = x**2\n",
        "\n",
        "fig = plt.figure()\n",
        "ax = fig.add_subplot(1, 1, 1)\n",
        "\n",
        "# plot the function\n",
        "plt.plot(x,y, 'r')\n",
        "plt.xlabel(\"x\")\n",
        "plt.ylabel(\"y\")\n",
        "\n",
        "plt.show()"
      ],
      "metadata": {
        "colab": {
          "base_uri": "https://localhost:8080/",
          "height": 279
        },
        "id": "BCsjJe37Kd_6",
        "outputId": "df81b280-ce5d-4ea4-bdaf-99767d9e84d6"
      },
      "execution_count": 82,
      "outputs": [
        {
          "output_type": "display_data",
          "data": {
            "text/plain": [
              "<Figure size 432x288 with 1 Axes>"
            ],
            "image/png": "[encoded data removed]"
          },
          "metadata": {
            "needs_background": "light"
          }
        }
      ]
    },
    {
      "cell_type": "code",
      "source": [
        "y = (x**3)/100\n",
        "\n",
        "fig = plt.figure()\n",
        "ax = fig.add_subplot(1, 1, 1)\n",
        "\n",
        "# plot the function\n",
        "plt.plot(x,y, 'r')\n",
        "plt.xlabel(\"x\")\n",
        "plt.ylabel(\"y\")\n",
        "\n",
        "plt.show()"
      ],
      "metadata": {
        "colab": {
          "base_uri": "https://localhost:8080/",
          "height": 279
        },
        "id": "7qeJLQjrKg2G",
        "outputId": "e7071cf0-5ec9-4fb6-c7f8-5e6ea15c8b09"
      },
      "execution_count": 83,
      "outputs": [
        {
          "output_type": "display_data",
          "data": {
            "text/plain": [
              "<Figure size 432x288 with 1 Axes>"
            ],
            "image/png": "[encoded data removed]"
          },
          "metadata": {
            "needs_background": "light"
          }
        }
      ]
    },
    {
      "cell_type": "code",
      "source": [
        "y = np.sin(x)\n",
        "\n",
        "fig = plt.figure()\n",
        "ax = fig.add_subplot(1, 1, 1)\n",
        "\n",
        "# plot the function\n",
        "plt.plot(x,y, 'r')\n",
        "plt.xlabel(\"x\")\n",
        "plt.ylabel(\"y\")\n",
        "\n",
        "plt.show()"
      ],
      "metadata": {
        "colab": {
          "base_uri": "https://localhost:8080/",
          "height": 279
        },
        "id": "WjDByihxKhpv",
        "outputId": "c09b3c96-7db2-4316-82bd-d1aa73f1f4f6"
      },
      "execution_count": 84,
      "outputs": [
        {
          "output_type": "display_data",
          "data": {
            "text/plain": [
              "<Figure size 432x288 with 1 Axes>"
            ],
            "image/png": "[encoded data removed]"
          },
          "metadata": {
            "needs_background": "light"
          }
        }
      ]
    },
    {
      "cell_type": "code",
      "source": [
        "y = np.log(x)\n",
        "\n",
        "fig = plt.figure()\n",
        "ax = fig.add_subplot(1, 1, 1)\n",
        "\n",
        "# plot the function\n",
        "plt.plot(x,y, 'r')\n",
        "plt.xlabel(\"x\")\n",
        "plt.ylabel(\"y\")\n",
        "\n",
        "plt.show()"
      ],
      "metadata": {
        "colab": {
          "base_uri": "https://localhost:8080/",
          "height": 279
        },
        "id": "TSkq7bd4KiGl",
        "outputId": "8779f848-25ec-4bba-eba0-4eae3211ade9"
      },
      "execution_count": 85,
      "outputs": [
        {
          "output_type": "display_data",
          "data": {
            "text/plain": [
              "<Figure size 432x288 with 1 Axes>"
            ],
            "image/png": "[encoded data removed]"
          },
          "metadata": {
            "needs_background": "light"
          }
        }
      ]
    },
    {
      "cell_type": "code",
      "source": [
        "y = np.exp(x)\n",
        "\n",
        "fig = plt.figure()\n",
        "ax = fig.add_subplot(1, 1, 1)\n",
        "\n",
        "# plot the function\n",
        "plt.plot(x,y, 'r')\n",
        "plt.xlabel(\"x\")\n",
        "plt.ylabel(\"y\")\n",
        "\n",
        "plt.show()"
      ],
      "metadata": {
        "colab": {
          "base_uri": "https://localhost:8080/",
          "height": 290
        },
        "id": "-yR6ChqBKib4",
        "outputId": "62331ad2-ffc5-4989-ca94-fe94cc8dc7db"
      },
      "execution_count": 86,
      "outputs": [
        {
          "output_type": "display_data",
          "data": {
            "text/plain": [
              "<Figure size 432x288 with 1 Axes>"
            ],
            "image/png": "[encoded data removed]"
          },
          "metadata": {
            "needs_background": "light"
          }
        }
      ]
    },
    {
      "cell_type": "markdown",
      "source": [
        "Ans 10."
      ],
      "metadata": {
        "id": "LZ8QlLlOowra"
      }
    },
    {
      "cell_type": "code",
      "source": [
        "import numpy as np\n",
        "import pandas as pd\n",
        "from IPython.display import display\n",
        "\n",
        "# Let A be that 20X5 matrix with random numbers drawn uniformly from the range 1 to 2\n",
        "A = np.random.uniform(1, 2, size=(20, 5))\n",
        "\n",
        "# Creating dataframe with the specified column names\n",
        "dataframe = pd.DataFrame(A, columns=[\"a\", \"b\", \"c\", \"d\", \"e\"])\n",
        "\n",
        "display(dataframe)\n",
        "col_max_sd = dataframe.std().idxmax()\n",
        "row_min_mean = dataframe.mean(axis=1).idxmin()\n",
        "\n",
        "print(\"The column with the highest standard deviation is: \", col_max_sd)\n",
        "print(\"The row with the lowest mean is: \", row_min_mean)"
      ],
      "metadata": {
        "colab": {
          "base_uri": "https://localhost:8080/",
          "height": 703
        },
        "id": "zzn63gFZoyNb",
        "outputId": "3b9f69ce-7d38-4cad-845a-a41213bfb3ae"
      },
      "execution_count": 87,
      "outputs": [
        {
          "output_type": "display_data",
          "data": {
            "text/plain": [
              "           a         b         c         d         e\n",
              "0   1.069168  1.000923  1.662102  1.197164  1.452478\n",
              "1   1.654103  1.228585  1.261568  1.992544  1.655526\n",
              "2   1.539759  1.440986  1.058698  1.108139  1.240255\n",
              "3   1.176142  1.800688  1.516381  1.237606  1.007010\n",
              "4   1.320867  1.717749  1.632098  1.111548  1.013674\n",
              "5   1.335646  1.766068  1.921766  1.810054  1.594818\n",
              "6   1.840187  1.124521  1.607414  1.807110  1.727067\n",
              "7   1.075997  1.412494  1.577461  1.265695  1.065396\n",
              "8   1.849041  1.508729  1.404936  1.068387  1.588144\n",
              "9   1.829984  1.439738  1.895496  1.153321  1.615252\n",
              "10  1.376989  1.614432  1.714562  1.486917  1.803823\n",
              "11  1.608519  1.212051  1.958066  1.391675  1.808221\n",
              "12  1.535713  1.522319  1.715654  1.878961  1.591085\n",
              "13  1.884551  1.019259  1.090545  1.623176  1.184995\n",
              "14  1.552770  1.596597  1.747269  1.108769  1.697313\n",
              "15  1.055102  1.524587  1.820153  1.817323  1.330985\n",
              "16  1.064551  1.643834  1.720960  1.473238  1.596638\n",
              "17  1.017553  1.487090  1.065250  1.260585  1.232185\n",
              "18  1.464427  1.943292  1.304474  1.426814  1.884373\n",
              "19  1.860693  1.588679  1.969866  1.532322  1.910343"
            ],
            "text/html": [
              "\n",
              "  <div id=\"df-23a6d0cb-825d-4203-9ef8-8cf1406445fd\">\n",
              "    <div class=\"colab-df-container\">\n",
              "      <div>\n",
              "<style scoped>\n",
              "    .dataframe tbody tr th:only-of-type {\n",
              "        vertical-align: middle;\n",
              "    }\n",
              "\n",
              "    .dataframe tbody tr th {\n",
              "        vertical-align: top;\n",
              "    }\n",
              "\n",
              "    .dataframe thead th {\n",
              "        text-align: right;\n",
              "    }\n",
              "</style>\n",
              "<table border=\"1\" class=\"dataframe\">\n",
              "  <thead>\n",
              "    <tr style=\"text-align: right;\">\n",
              "      <th></th>\n",
              "      <th>a</th>\n",
              "      <th>b</th>\n",
              "      <th>c</th>\n",
              "      <th>d</th>\n",
              "      <th>e</th>\n",
              "    </tr>\n",
              "  </thead>\n",
              "  <tbody>\n",
              "    <tr>\n",
              "      <th>0</th>\n",
              "      <td>1.069168</td>\n",
              "      <td>1.000923</td>\n",
              "      <td>1.662102</td>\n",
              "      <td>1.197164</td>\n",
              "      <td>1.452478</td>\n",
              "    </tr>\n",
              "    <tr>\n",
              "      <th>1</th>\n",
              "      <td>1.654103</td>\n",
              "      <td>1.228585</td>\n",
              "      <td>1.261568</td>\n",
              "      <td>1.992544</td>\n",
              "      <td>1.655526</td>\n",
              "    </tr>\n",
              "    <tr>\n",
              "      <th>2</th>\n",
              "      <td>1.539759</td>\n",
              "      <td>1.440986</td>\n",
              "      <td>1.058698</td>\n",
              "      <td>1.108139</td>\n",
              "      <td>1.240255</td>\n",
              "    </tr>\n",
              "    <tr>\n",
              "      <th>3</th>\n",
              "      <td>1.176142</td>\n",
              "      <td>1.800688</td>\n",
              "      <td>1.516381</td>\n",
              "      <td>1.237606</td>\n",
              "      <td>1.007010</td>\n",
              "    </tr>\n",
              "    <tr>\n",
              "      <th>4</th>\n",
              "      <td>1.320867</td>\n",
              "      <td>1.717749</td>\n",
              "      <td>1.632098</td>\n",
              "      <td>1.111548</td>\n",
              "      <td>1.013674</td>\n",
              "    </tr>\n",
              "    <tr>\n",
              "      <th>5</th>\n",
              "      <td>1.335646</td>\n",
              "      <td>1.766068</td>\n",
              "      <td>1.921766</td>\n",
              "      <td>1.810054</td>\n",
              "      <td>1.594818</td>\n",
              "    </tr>\n",
              "    <tr>\n",
              "      <th>6</th>\n",
              "      <td>1.840187</td>\n",
              "      <td>1.124521</td>\n",
              "      <td>1.607414</td>\n",
              "      <td>1.807110</td>\n",
              "      <td>1.727067</td>\n",
              "    </tr>\n",
              "    <tr>\n",
              "      <th>7</th>\n",
              "      <td>1.075997</td>\n",
              "      <td>1.412494</td>\n",
              "      <td>1.577461</td>\n",
              "      <td>1.265695</td>\n",
              "      <td>1.065396</td>\n",
              "    </tr>\n",
              "    <tr>\n",
              "      <th>8</th>\n",
              "      <td>1.849041</td>\n",
              "      <td>1.508729</td>\n",
              "      <td>1.404936</td>\n",
              "      <td>1.068387</td>\n",
              "      <td>1.588144</td>\n",
              "    </tr>\n",
              "    <tr>\n",
              "      <th>9</th>\n",
              "      <td>1.829984</td>\n",
              "      <td>1.439738</td>\n",
              "      <td>1.895496</td>\n",
              "      <td>1.153321</td>\n",
              "      <td>1.615252</td>\n",
              "    </tr>\n",
              "    <tr>\n",
              "      <th>10</th>\n",
              "      <td>1.376989</td>\n",
              "      <td>1.614432</td>\n",
              "      <td>1.714562</td>\n",
              "      <td>1.486917</td>\n",
              "      <td>1.803823</td>\n",
              "    </tr>\n",
              "    <tr>\n",
              "      <th>11</th>\n",
              "      <td>1.608519</td>\n",
              "      <td>1.212051</td>\n",
              "      <td>1.958066</td>\n",
              "      <td>1.391675</td>\n",
              "      <td>1.808221</td>\n",
              "    </tr>\n",
              "    <tr>\n",
              "      <th>12</th>\n",
              "      <td>1.535713</td>\n",
              "      <td>1.522319</td>\n",
              "      <td>1.715654</td>\n",
              "      <td>1.878961</td>\n",
              "      <td>1.591085</td>\n",
              "    </tr>\n",
              "    <tr>\n",
              "      <th>13</th>\n",
              "      <td>1.884551</td>\n",
              "      <td>1.019259</td>\n",
              "      <td>1.090545</td>\n",
              "      <td>1.623176</td>\n",
              "      <td>1.184995</td>\n",
              "    </tr>\n",
              "    <tr>\n",
              "      <th>14</th>\n",
              "      <td>1.552770</td>\n",
              "      <td>1.596597</td>\n",
              "      <td>1.747269</td>\n",
              "      <td>1.108769</td>\n",
              "      <td>1.697313</td>\n",
              "    </tr>\n",
              "    <tr>\n",
              "      <th>15</th>\n",
              "      <td>1.055102</td>\n",
              "      <td>1.524587</td>\n",
              "      <td>1.820153</td>\n",
              "      <td>1.817323</td>\n",
              "      <td>1.330985</td>\n",
              "    </tr>\n",
              "    <tr>\n",
              "      <th>16</th>\n",
              "      <td>1.064551</td>\n",
              "      <td>1.643834</td>\n",
              "      <td>1.720960</td>\n",
              "      <td>1.473238</td>\n",
              "      <td>1.596638</td>\n",
              "    </tr>\n",
              "    <tr>\n",
              "      <th>17</th>\n",
              "      <td>1.017553</td>\n",
              "      <td>1.487090</td>\n",
              "      <td>1.065250</td>\n",
              "      <td>1.260585</td>\n",
              "      <td>1.232185</td>\n",
              "    </tr>\n",
              "    <tr>\n",
              "      <th>18</th>\n",
              "      <td>1.464427</td>\n",
              "      <td>1.943292</td>\n",
              "      <td>1.304474</td>\n",
              "      <td>1.426814</td>\n",
              "      <td>1.884373</td>\n",
              "    </tr>\n",
              "    <tr>\n",
              "      <th>19</th>\n",
              "      <td>1.860693</td>\n",
              "      <td>1.588679</td>\n",
              "      <td>1.969866</td>\n",
              "      <td>1.532322</td>\n",
              "      <td>1.910343</td>\n",
              "    </tr>\n",
              "  </tbody>\n",
              "</table>\n",
              "</div>\n",
              "      <button class=\"colab-df-convert\" onclick=\"convertToInteractive('df-23a6d0cb-825d-4203-9ef8-8cf1406445fd')\"\n",
              "              title=\"Convert this dataframe to an interactive table.\"\n",
              "              style=\"display:none;\">\n",
              "        \n",
              "  <svg xmlns=\"http://www.w3.org/2000/svg\" height=\"24px\"viewBox=\"0 0 24 24\"\n",
              "       width=\"24px\">\n",
              "    <path d=\"M0 0h24v24H0V0z\" fill=\"none\"/>\n",
              "    <path d=\"M18.56 5.44l.94 2.06.94-2.06 2.06-.94-2.06-.94-.94-2.06-.94 2.06-2.06.94zm-11 1L8.5 8.5l.94-2.06 2.06-.94-2.06-.94L8.5 2.5l-.94 2.06-2.06.94zm10 10l.94 2.06.94-2.06 2.06-.94-2.06-.94-.94-2.06-.94 2.06-2.06.94z\"/><path d=\"M17.41 7.96l-1.37-1.37c-.4-.4-.92-.59-1.43-.59-.52 0-1.04.2-1.43.59L10.3 9.45l-7.72 7.72c-.78.78-.78 2.05 0 2.83L4 21.41c.39.39.9.59 1.41.59.51 0 1.02-.2 1.41-.59l7.78-7.78 2.81-2.81c.8-.78.8-2.07 0-2.86zM5.41 20L4 18.59l7.72-7.72 1.47 1.35L5.41 20z\"/>\n",
              "  </svg>\n",
              "      </button>\n",
              "      \n",
              "  <style>\n",
              "    .colab-df-container {\n",
              "      display:flex;\n",
              "      flex-wrap:wrap;\n",
              "      gap: 12px;\n",
              "    }\n",
              "\n",
              "    .colab-df-convert {\n",
              "      background-color: #E8F0FE;\n",
              "      border: none;\n",
              "      border-radius: 50%;\n",
              "      cursor: pointer;\n",
              "      display: none;\n",
              "      fill: #1967D2;\n",
              "      height: 32px;\n",
              "      padding: 0 0 0 0;\n",
              "      width: 32px;\n",
              "    }\n",
              "\n",
              "    .colab-df-convert:hover {\n",
              "      background-color: #E2EBFA;\n",
              "      box-shadow: 0px 1px 2px rgba(60, 64, 67, 0.3), 0px 1px 3px 1px rgba(60, 64, 67, 0.15);\n",
              "      fill: #174EA6;\n",
              "    }\n",
              "\n",
              "    [theme=dark] .colab-df-convert {\n",
              "      background-color: #3B4455;\n",
              "      fill: #D2E3FC;\n",
              "    }\n",
              "\n",
              "    [theme=dark] .colab-df-convert:hover {\n",
              "      background-color: #434B5C;\n",
              "      box-shadow: 0px 1px 3px 1px rgba(0, 0, 0, 0.15);\n",
              "      filter: drop-shadow(0px 1px 2px rgba(0, 0, 0, 0.3));\n",
              "      fill: #FFFFFF;\n",
              "    }\n",
              "  </style>\n",
              "\n",
              "      <script>\n",
              "        const buttonEl =\n",
              "          document.querySelector('#df-23a6d0cb-825d-4203-9ef8-8cf1406445fd button.colab-df-convert');\n",
              "        buttonEl.style.display =\n",
              "          google.colab.kernel.accessAllowed ? 'block' : 'none';\n",
              "\n",
              "        async function convertToInteractive(key) {\n",
              "          const element = document.querySelector('#df-23a6d0cb-825d-4203-9ef8-8cf1406445fd');\n",
              "          const dataTable =\n",
              "            await google.colab.kernel.invokeFunction('convertToInteractive',\n",
              "                                                     [key], {});\n",
              "          if (!dataTable) return;\n",
              "\n",
              "          const docLinkHtml = 'Like what you see? Visit the ' +\n",
              "            '<a target=\"_blank\" href=https://colab.research.google.com/notebooks/data_table.ipynb>data table notebook</a>'\n",
              "            + ' to learn more about interactive tables.';\n",
              "          element.innerHTML = '';\n",
              "          dataTable['output_type'] = 'display_data';\n",
              "          await google.colab.output.renderOutput(dataTable, element);\n",
              "          const docLink = document.createElement('div');\n",
              "          docLink.innerHTML = docLinkHtml;\n",
              "          element.appendChild(docLink);\n",
              "        }\n",
              "      </script>\n",
              "    </div>\n",
              "  </div>\n",
              "  "
            ]
          },
          "metadata": {}
        },
        {
          "output_type": "stream",
          "name": "stdout",
          "text": [
            "The column with the highest standard deviation is:  a\n",
            "The row with the lowest mean is:  17\n"
          ]
        }
      ]
    },
    {
      "cell_type": "markdown",
      "source": [
        "Ans 11."
      ],
      "metadata": {
        "id": "DEs0uoCrswRk"
      }
    },
    {
      "cell_type": "code",
      "source": [
        "# Creating column \"f\" as specified\n",
        "dataframe['f'] = dataframe['a'] + dataframe['b'] + dataframe['c'] + dataframe['d'] + dataframe['e']\n",
        "\n",
        "# Creating column \"g\" as specified\n",
        "dataframe['g'] = np.where(dataframe['f'] < 8, 'LT8', 'GT8')\n",
        "\n",
        "display(dataframe)\n",
        "\n",
        "# No. of rows with value in 'g' column as LT8\n",
        "no_LT8 = dataframe[dataframe['g'] == 'LT8'].shape[0]\n",
        "print(\"The number of rows where g == LT8 is: \", no_LT8)\n",
        "\n",
        "# Standard Deviation of column “f” for rows where datframe[g] == “LT8”\n",
        "sd_LT8 = dataframe[dataframe['g'] == 'LT8']['f'].std()\n",
        "print(\"The Standard Deviation of rows g == LT8 is: \", sd_LT8)\n",
        "\n",
        "# Standard Deviation of column “f” for rows where datframe[g] == “GT8”\n",
        "sd_GT8 = dataframe[dataframe['g'] == 'GT8']['f'].std()\n",
        "print(\"The Standard Deviation of rows g == GT8 is: \", sd_GT8)"
      ],
      "metadata": {
        "colab": {
          "base_uri": "https://localhost:8080/",
          "height": 720
        },
        "id": "JUIieW-JsxyI",
        "outputId": "10ea7f03-9e51-427a-a20a-b044e5e16b07"
      },
      "execution_count": 88,
      "outputs": [
        {
          "output_type": "display_data",
          "data": {
            "text/plain": [
              "           a         b         c         d         e         f    g\n",
              "0   1.069168  1.000923  1.662102  1.197164  1.452478  6.381835  LT8\n",
              "1   1.654103  1.228585  1.261568  1.992544  1.655526  7.792326  LT8\n",
              "2   1.539759  1.440986  1.058698  1.108139  1.240255  6.387837  LT8\n",
              "3   1.176142  1.800688  1.516381  1.237606  1.007010  6.737828  LT8\n",
              "4   1.320867  1.717749  1.632098  1.111548  1.013674  6.795937  LT8\n",
              "5   1.335646  1.766068  1.921766  1.810054  1.594818  8.428353  GT8\n",
              "6   1.840187  1.124521  1.607414  1.807110  1.727067  8.106299  GT8\n",
              "7   1.075997  1.412494  1.577461  1.265695  1.065396  6.397044  LT8\n",
              "8   1.849041  1.508729  1.404936  1.068387  1.588144  7.419236  LT8\n",
              "9   1.829984  1.439738  1.895496  1.153321  1.615252  7.933791  LT8\n",
              "10  1.376989  1.614432  1.714562  1.486917  1.803823  7.996724  LT8\n",
              "11  1.608519  1.212051  1.958066  1.391675  1.808221  7.978530  LT8\n",
              "12  1.535713  1.522319  1.715654  1.878961  1.591085  8.243732  GT8\n",
              "13  1.884551  1.019259  1.090545  1.623176  1.184995  6.802527  LT8\n",
              "14  1.552770  1.596597  1.747269  1.108769  1.697313  7.702717  LT8\n",
              "15  1.055102  1.524587  1.820153  1.817323  1.330985  7.548149  LT8\n",
              "16  1.064551  1.643834  1.720960  1.473238  1.596638  7.499221  LT8\n",
              "17  1.017553  1.487090  1.065250  1.260585  1.232185  6.062663  LT8\n",
              "18  1.464427  1.943292  1.304474  1.426814  1.884373  8.023380  GT8\n",
              "19  1.860693  1.588679  1.969866  1.532322  1.910343  8.861903  GT8"
            ],
            "text/html": [
              "\n",
              "  <div id=\"df-230d63e1-4a70-4104-af05-1dd94cf68d26\">\n",
              "    <div class=\"colab-df-container\">\n",
              "      <div>\n",
              "<style scoped>\n",
              "    .dataframe tbody tr th:only-of-type {\n",
              "        vertical-align: middle;\n",
              "    }\n",
              "\n",
              "    .dataframe tbody tr th {\n",
              "        vertical-align: top;\n",
              "    }\n",
              "\n",
              "    .dataframe thead th {\n",
              "        text-align: right;\n",
              "    }\n",
              "</style>\n",
              "<table border=\"1\" class=\"dataframe\">\n",
              "  <thead>\n",
              "    <tr style=\"text-align: right;\">\n",
              "      <th></th>\n",
              "      <th>a</th>\n",
              "      <th>b</th>\n",
              "      <th>c</th>\n",
              "      <th>d</th>\n",
              "      <th>e</th>\n",
              "      <th>f</th>\n",
              "      <th>g</th>\n",
              "    </tr>\n",
              "  </thead>\n",
              "  <tbody>\n",
              "    <tr>\n",
              "      <th>0</th>\n",
              "      <td>1.069168</td>\n",
              "      <td>1.000923</td>\n",
              "      <td>1.662102</td>\n",
              "      <td>1.197164</td>\n",
              "      <td>1.452478</td>\n",
              "      <td>6.381835</td>\n",
              "      <td>LT8</td>\n",
              "    </tr>\n",
              "    <tr>\n",
              "      <th>1</th>\n",
              "      <td>1.654103</td>\n",
              "      <td>1.228585</td>\n",
              "      <td>1.261568</td>\n",
              "      <td>1.992544</td>\n",
              "      <td>1.655526</td>\n",
              "      <td>7.792326</td>\n",
              "      <td>LT8</td>\n",
              "    </tr>\n",
              "    <tr>\n",
              "      <th>2</th>\n",
              "      <td>1.539759</td>\n",
              "      <td>1.440986</td>\n",
              "      <td>1.058698</td>\n",
              "      <td>1.108139</td>\n",
              "      <td>1.240255</td>\n",
              "      <td>6.387837</td>\n",
              "      <td>LT8</td>\n",
              "    </tr>\n",
              "    <tr>\n",
              "      <th>3</th>\n",
              "      <td>1.176142</td>\n",
              "      <td>1.800688</td>\n",
              "      <td>1.516381</td>\n",
              "      <td>1.237606</td>\n",
              "      <td>1.007010</td>\n",
              "      <td>6.737828</td>\n",
              "      <td>LT8</td>\n",
              "    </tr>\n",
              "    <tr>\n",
              "      <th>4</th>\n",
              "      <td>1.320867</td>\n",
              "      <td>1.717749</td>\n",
              "      <td>1.632098</td>\n",
              "      <td>1.111548</td>\n",
              "      <td>1.013674</td>\n",
              "      <td>6.795937</td>\n",
              "      <td>LT8</td>\n",
              "    </tr>\n",
              "    <tr>\n",
              "      <th>5</th>\n",
              "      <td>1.335646</td>\n",
              "      <td>1.766068</td>\n",
              "      <td>1.921766</td>\n",
              "      <td>1.810054</td>\n",
              "      <td>1.594818</td>\n",
              "      <td>8.428353</td>\n",
              "      <td>GT8</td>\n",
              "    </tr>\n",
              "    <tr>\n",
              "      <th>6</th>\n",
              "      <td>1.840187</td>\n",
              "      <td>1.124521</td>\n",
              "      <td>1.607414</td>\n",
              "      <td>1.807110</td>\n",
              "      <td>1.727067</td>\n",
              "      <td>8.106299</td>\n",
              "      <td>GT8</td>\n",
              "    </tr>\n",
              "    <tr>\n",
              "      <th>7</th>\n",
              "      <td>1.075997</td>\n",
              "      <td>1.412494</td>\n",
              "      <td>1.577461</td>\n",
              "      <td>1.265695</td>\n",
              "      <td>1.065396</td>\n",
              "      <td>6.397044</td>\n",
              "      <td>LT8</td>\n",
              "    </tr>\n",
              "    <tr>\n",
              "      <th>8</th>\n",
              "      <td>1.849041</td>\n",
              "      <td>1.508729</td>\n",
              "      <td>1.404936</td>\n",
              "      <td>1.068387</td>\n",
              "      <td>1.588144</td>\n",
              "      <td>7.419236</td>\n",
              "      <td>LT8</td>\n",
              "    </tr>\n",
              "    <tr>\n",
              "      <th>9</th>\n",
              "      <td>1.829984</td>\n",
              "      <td>1.439738</td>\n",
              "      <td>1.895496</td>\n",
              "      <td>1.153321</td>\n",
              "      <td>1.615252</td>\n",
              "      <td>7.933791</td>\n",
              "      <td>LT8</td>\n",
              "    </tr>\n",
              "    <tr>\n",
              "      <th>10</th>\n",
              "      <td>1.376989</td>\n",
              "      <td>1.614432</td>\n",
              "      <td>1.714562</td>\n",
              "      <td>1.486917</td>\n",
              "      <td>1.803823</td>\n",
              "      <td>7.996724</td>\n",
              "      <td>LT8</td>\n",
              "    </tr>\n",
              "    <tr>\n",
              "      <th>11</th>\n",
              "      <td>1.608519</td>\n",
              "      <td>1.212051</td>\n",
              "      <td>1.958066</td>\n",
              "      <td>1.391675</td>\n",
              "      <td>1.808221</td>\n",
              "      <td>7.978530</td>\n",
              "      <td>LT8</td>\n",
              "    </tr>\n",
              "    <tr>\n",
              "      <th>12</th>\n",
              "      <td>1.535713</td>\n",
              "      <td>1.522319</td>\n",
              "      <td>1.715654</td>\n",
              "      <td>1.878961</td>\n",
              "      <td>1.591085</td>\n",
              "      <td>8.243732</td>\n",
              "      <td>GT8</td>\n",
              "    </tr>\n",
              "    <tr>\n",
              "      <th>13</th>\n",
              "      <td>1.884551</td>\n",
              "      <td>1.019259</td>\n",
              "      <td>1.090545</td>\n",
              "      <td>1.623176</td>\n",
              "      <td>1.184995</td>\n",
              "      <td>6.802527</td>\n",
              "      <td>LT8</td>\n",
              "    </tr>\n",
              "    <tr>\n",
              "      <th>14</th>\n",
              "      <td>1.552770</td>\n",
              "      <td>1.596597</td>\n",
              "      <td>1.747269</td>\n",
              "      <td>1.108769</td>\n",
              "      <td>1.697313</td>\n",
              "      <td>7.702717</td>\n",
              "      <td>LT8</td>\n",
              "    </tr>\n",
              "    <tr>\n",
              "      <th>15</th>\n",
              "      <td>1.055102</td>\n",
              "      <td>1.524587</td>\n",
              "      <td>1.820153</td>\n",
              "      <td>1.817323</td>\n",
              "      <td>1.330985</td>\n",
              "      <td>7.548149</td>\n",
              "      <td>LT8</td>\n",
              "    </tr>\n",
              "    <tr>\n",
              "      <th>16</th>\n",
              "      <td>1.064551</td>\n",
              "      <td>1.643834</td>\n",
              "      <td>1.720960</td>\n",
              "      <td>1.473238</td>\n",
              "      <td>1.596638</td>\n",
              "      <td>7.499221</td>\n",
              "      <td>LT8</td>\n",
              "    </tr>\n",
              "    <tr>\n",
              "      <th>17</th>\n",
              "      <td>1.017553</td>\n",
              "      <td>1.487090</td>\n",
              "      <td>1.065250</td>\n",
              "      <td>1.260585</td>\n",
              "      <td>1.232185</td>\n",
              "      <td>6.062663</td>\n",
              "      <td>LT8</td>\n",
              "    </tr>\n",
              "    <tr>\n",
              "      <th>18</th>\n",
              "      <td>1.464427</td>\n",
              "      <td>1.943292</td>\n",
              "      <td>1.304474</td>\n",
              "      <td>1.426814</td>\n",
              "      <td>1.884373</td>\n",
              "      <td>8.023380</td>\n",
              "      <td>GT8</td>\n",
              "    </tr>\n",
              "    <tr>\n",
              "      <th>19</th>\n",
              "      <td>1.860693</td>\n",
              "      <td>1.588679</td>\n",
              "      <td>1.969866</td>\n",
              "      <td>1.532322</td>\n",
              "      <td>1.910343</td>\n",
              "      <td>8.861903</td>\n",
              "      <td>GT8</td>\n",
              "    </tr>\n",
              "  </tbody>\n",
              "</table>\n",
              "</div>\n",
              "      <button class=\"colab-df-convert\" onclick=\"convertToInteractive('df-230d63e1-4a70-4104-af05-1dd94cf68d26')\"\n",
              "              title=\"Convert this dataframe to an interactive table.\"\n",
              "              style=\"display:none;\">\n",
              "        \n",
              "  <svg xmlns=\"http://www.w3.org/2000/svg\" height=\"24px\"viewBox=\"0 0 24 24\"\n",
              "       width=\"24px\">\n",
              "    <path d=\"M0 0h24v24H0V0z\" fill=\"none\"/>\n",
              "    <path d=\"M18.56 5.44l.94 2.06.94-2.06 2.06-.94-2.06-.94-.94-2.06-.94 2.06-2.06.94zm-11 1L8.5 8.5l.94-2.06 2.06-.94-2.06-.94L8.5 2.5l-.94 2.06-2.06.94zm10 10l.94 2.06.94-2.06 2.06-.94-2.06-.94-.94-2.06-.94 2.06-2.06.94z\"/><path d=\"M17.41 7.96l-1.37-1.37c-.4-.4-.92-.59-1.43-.59-.52 0-1.04.2-1.43.59L10.3 9.45l-7.72 7.72c-.78.78-.78 2.05 0 2.83L4 21.41c.39.39.9.59 1.41.59.51 0 1.02-.2 1.41-.59l7.78-7.78 2.81-2.81c.8-.78.8-2.07 0-2.86zM5.41 20L4 18.59l7.72-7.72 1.47 1.35L5.41 20z\"/>\n",
              "  </svg>\n",
              "      </button>\n",
              "      \n",
              "  <style>\n",
              "    .colab-df-container {\n",
              "      display:flex;\n",
              "      flex-wrap:wrap;\n",
              "      gap: 12px;\n",
              "    }\n",
              "\n",
              "    .colab-df-convert {\n",
              "      background-color: #E8F0FE;\n",
              "      border: none;\n",
              "      border-radius: 50%;\n",
              "      cursor: pointer;\n",
              "      display: none;\n",
              "      fill: #1967D2;\n",
              "      height: 32px;\n",
              "      padding: 0 0 0 0;\n",
              "      width: 32px;\n",
              "    }\n",
              "\n",
              "    .colab-df-convert:hover {\n",
              "      background-color: #E2EBFA;\n",
              "      box-shadow: 0px 1px 2px rgba(60, 64, 67, 0.3), 0px 1px 3px 1px rgba(60, 64, 67, 0.15);\n",
              "      fill: #174EA6;\n",
              "    }\n",
              "\n",
              "    [theme=dark] .colab-df-convert {\n",
              "      background-color: #3B4455;\n",
              "      fill: #D2E3FC;\n",
              "    }\n",
              "\n",
              "    [theme=dark] .colab-df-convert:hover {\n",
              "      background-color: #434B5C;\n",
              "      box-shadow: 0px 1px 3px 1px rgba(0, 0, 0, 0.15);\n",
              "      filter: drop-shadow(0px 1px 2px rgba(0, 0, 0, 0.3));\n",
              "      fill: #FFFFFF;\n",
              "    }\n",
              "  </style>\n",
              "\n",
              "      <script>\n",
              "        const buttonEl =\n",
              "          document.querySelector('#df-230d63e1-4a70-4104-af05-1dd94cf68d26 button.colab-df-convert');\n",
              "        buttonEl.style.display =\n",
              "          google.colab.kernel.accessAllowed ? 'block' : 'none';\n",
              "\n",
              "        async function convertToInteractive(key) {\n",
              "          const element = document.querySelector('#df-230d63e1-4a70-4104-af05-1dd94cf68d26');\n",
              "          const dataTable =\n",
              "            await google.colab.kernel.invokeFunction('convertToInteractive',\n",
              "                                                     [key], {});\n",
              "          if (!dataTable) return;\n",
              "\n",
              "          const docLinkHtml = 'Like what you see? Visit the ' +\n",
              "            '<a target=\"_blank\" href=https://colab.research.google.com/notebooks/data_table.ipynb>data table notebook</a>'\n",
              "            + ' to learn more about interactive tables.';\n",
              "          element.innerHTML = '';\n",
              "          dataTable['output_type'] = 'display_data';\n",
              "          await google.colab.output.renderOutput(dataTable, element);\n",
              "          const docLink = document.createElement('div');\n",
              "          docLink.innerHTML = docLinkHtml;\n",
              "          element.appendChild(docLink);\n",
              "        }\n",
              "      </script>\n",
              "    </div>\n",
              "  </div>\n",
              "  "
            ]
          },
          "metadata": {}
        },
        {
          "output_type": "stream",
          "name": "stdout",
          "text": [
            "The number of rows where g == LT8 is:  15\n",
            "The Standard Deviation of rows g == LT8 is:  0.6773194728315991\n",
            "The Standard Deviation of rows g == GT8 is:  0.3331877721150053\n"
          ]
        }
      ]
    },
    {
      "cell_type": "markdown",
      "source": [
        "Ans 12."
      ],
      "metadata": {
        "id": "n1uMyZq1wiXa"
      }
    },
    {
      "cell_type": "code",
      "source": [
        "import numpy as np\n",
        "\n",
        "# Let A is a 3x3 matrix\n",
        "A = np.array([[1, 2, 3],\n",
        "              [4, 5, 6],\n",
        "              [7, 8, 9]])\n",
        "\n",
        "# Let B is a 1x3 matrix\n",
        "B = np.array([[10, 15, 20]])\n",
        "\n",
        "# Performing matrix multiplication\n",
        "C = A + B\n",
        "\n",
        "print(C)"
      ],
      "metadata": {
        "colab": {
          "base_uri": "https://localhost:8080/"
        },
        "id": "zp_3VxZJwka9",
        "outputId": "2069c1f3-d4cc-47bd-9354-84222387f988"
      },
      "execution_count": 89,
      "outputs": [
        {
          "output_type": "stream",
          "name": "stdout",
          "text": [
            "[[11 17 23]\n",
            " [14 20 26]\n",
            " [17 23 29]]\n"
          ]
        }
      ]
    },
    {
      "cell_type": "markdown",
      "source": [
        "Broadcasting allows users to perform arithmetic operations on arrays of different sizes. \n",
        "For arrays with unequal dimensions, it stretches or duplicates the smaller array so that it has the same dimensions as the larger array, and then performs the operation element-wise.\n",
        "\n",
        "Although there are some basic considerations along with this:\n",
        "\n",
        "\n",
        "1) NumPy compares the dimensions of the arrays element-wise, starting with the trailing dimensions and working its way forward.\n",
        "\n",
        "2) For each dimension, if the arrays have the same size, or if one of the arrays has size 1, NumPy continues to the next dimension.\n",
        "\n",
        "3) If the arrays have different sizes and neither of them has size 1, an error is raised, because the shapes are incompatible.\n",
        "\n",
        "4) Then the smaller array is stretched, as in the values of the smaller array are duplicated to make it equal to the larger array.\n",
        "\n",
        "Here, the matrix B is stretched to: \n",
        "\n",
        "[[10 15 20]\n",
        "\n",
        " [10 15 20]\n",
        " \n",
        " [10 15 20]]"
      ],
      "metadata": {
        "id": "lUPqa19XxJ2-"
      }
    },
    {
      "cell_type": "markdown",
      "source": [
        "Ans 13."
      ],
      "metadata": {
        "id": "VZsTA7GYyYKw"
      }
    },
    {
      "cell_type": "code",
      "source": [
        "import random\n",
        "import timeit\n",
        "import numpy as np\n",
        "\n",
        "n = 100\n",
        "lst = random.sample(range(1, 200), n)\n",
        "\n",
        "def argmin(lst,n):\n",
        "  min_ele = lst[0]\n",
        "  idx = 0\n",
        "  for i in range(n):\n",
        "    if(lst[i]<min_ele):\n",
        "      min_ele = lst[i]\n",
        "      idx = i\n",
        "  return idx\n",
        "\n",
        "print(argmin(lst,n))\n",
        "\n",
        "def argmin_compare(lst,n):\n",
        "  if(np.argmin(lst) != argmin(lst,n)):\n",
        "    print(\"False\")\n",
        "    pass\n"
      ],
      "metadata": {
        "colab": {
          "base_uri": "https://localhost:8080/"
        },
        "id": "mcI7R3oHydAr",
        "outputId": "7e834868-1f2d-4274-ee18-ee88f5edeee5"
      },
      "execution_count": 90,
      "outputs": [
        {
          "output_type": "stream",
          "name": "stdout",
          "text": [
            "82\n"
          ]
        }
      ]
    },
    {
      "cell_type": "code",
      "source": [
        "%%timeit -r 3 -n 2000\n",
        "argmin_compare(lst,n)"
      ],
      "metadata": {
        "colab": {
          "base_uri": "https://localhost:8080/"
        },
        "id": "-7JD3tp9ylU1",
        "outputId": "dbc123df-5880-4977-dcd6-e17f89f0aea7"
      },
      "execution_count": 91,
      "outputs": [
        {
          "output_type": "stream",
          "name": "stdout",
          "text": [
            "29.4 µs ± 8.77 µs per loop (mean ± std. dev. of 3 runs, 2000 loops each)\n"
          ]
        }
      ]
    },
    {
      "cell_type": "markdown",
      "source": [
        "Since the timeit function doesn't print False, it means all values match. Function verified."
      ],
      "metadata": {
        "id": "rZiT6kkT7KEg"
      }
    }
  ]
}